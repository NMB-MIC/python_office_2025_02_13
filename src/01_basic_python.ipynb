{
 "cells": [
  {
   "cell_type": "markdown",
   "metadata": {},
   "source": [
    "# Basic Python"
   ]
  },
  {
   "cell_type": "code",
   "execution_count": 90,
   "metadata": {},
   "outputs": [
    {
     "name": "stdout",
     "output_type": "stream",
     "text": [
      "Hello world\n"
     ]
    }
   ],
   "source": [
    "print(\"Hello world\")"
   ]
  },
  {
   "cell_type": "markdown",
   "metadata": {},
   "source": [
    "## 1.1 Variables"
   ]
  },
  {
   "cell_type": "code",
   "execution_count": 91,
   "metadata": {},
   "outputs": [
    {
     "name": "stdout",
     "output_type": "stream",
     "text": [
      "hello world\n",
      "hello world2\n"
     ]
    }
   ],
   "source": [
    "msg = \"hello world\"\n",
    "print(msg)\n",
    "\n",
    "msg = \"hello world2\"\n",
    "print(msg)"
   ]
  },
  {
   "cell_type": "code",
   "execution_count": 92,
   "metadata": {},
   "outputs": [],
   "source": [
    "#naming\n",
    "name = \"suraphop\"\n",
    "first_name = \"suraphop\"\n",
    "last_name = \"saelee\""
   ]
  },
  {
   "cell_type": "code",
   "execution_count": 93,
   "metadata": {},
   "outputs": [],
   "source": [
    "#Example employee\n",
    "employee_number =  \"J6639\"\n",
    "emp_number = \"J6639\"\n",
    "emp_no = \"J6639\"\n",
    "emp = \"J6639\"\n",
    "id = \"J6639\""
   ]
  },
  {
   "cell_type": "code",
   "execution_count": 94,
   "metadata": {},
   "outputs": [],
   "source": [
    "#legal\n",
    "\n",
    "#1name = \"suraphop\"\n",
    "name_1 = \"suraphop\"\n",
    "name1 = \"suraphop\"\n",
    "#$name = \"suraphop\""
   ]
  },
  {
   "cell_type": "markdown",
   "metadata": {},
   "source": [
    "#### 1.2 Data Types "
   ]
  },
  {
   "cell_type": "markdown",
   "metadata": {},
   "source": [
    "1.2.1 Numberic"
   ]
  },
  {
   "cell_type": "code",
   "execution_count": 95,
   "metadata": {},
   "outputs": [
    {
     "name": "stdout",
     "output_type": "stream",
     "text": [
      "<class 'str'>\n",
      "<class 'str'>\n",
      "41\n"
     ]
    }
   ],
   "source": [
    "msg = \"4\"\n",
    "print(type(msg))\n",
    "\n",
    "msg_1 = \"1\"\n",
    "print(type(msg))\n",
    "\n",
    "print(msg+msg_1)"
   ]
  },
  {
   "cell_type": "code",
   "execution_count": 96,
   "metadata": {},
   "outputs": [
    {
     "name": "stdout",
     "output_type": "stream",
     "text": [
      "<class 'int'>\n",
      "<class 'int'>\n",
      "5\n"
     ]
    }
   ],
   "source": [
    "msg =  4\n",
    "print(type(msg))\n",
    "\n",
    "msg_1 = 1\n",
    "print(type(msg))\n",
    "\n",
    "print(msg+msg_1)"
   ]
  },
  {
   "cell_type": "code",
   "execution_count": 97,
   "metadata": {},
   "outputs": [
    {
     "name": "stdout",
     "output_type": "stream",
     "text": [
      "<class 'int'>\n",
      "<class 'int'>\n",
      "5\n"
     ]
    }
   ],
   "source": [
    "msg = int(\"4\")\n",
    "\n",
    "print(type(msg))\n",
    "\n",
    "msg_1 = int(\"1\")\n",
    "print(type(msg))\n",
    "\n",
    "print(msg+msg_1)"
   ]
  },
  {
   "cell_type": "code",
   "execution_count": 98,
   "metadata": {},
   "outputs": [],
   "source": [
    "#cannot convert string to int\n",
    "#msg = int(\"4D\")"
   ]
  },
  {
   "cell_type": "code",
   "execution_count": 99,
   "metadata": {},
   "outputs": [
    {
     "name": "stdout",
     "output_type": "stream",
     "text": [
      "<class 'float'>\n",
      "8.4\n",
      "4\n",
      "4.0\n"
     ]
    }
   ],
   "source": [
    "msg = 4.4\n",
    "print(type(msg))\n",
    "\n",
    "print(4+msg)\n",
    "\n",
    "msg = 4\n",
    "print(msg)\n",
    "print(float(msg))"
   ]
  },
  {
   "cell_type": "markdown",
   "metadata": {},
   "source": [
    "1.2.1 Operator"
   ]
  },
  {
   "cell_type": "code",
   "execution_count": 100,
   "metadata": {},
   "outputs": [
    {
     "data": {
      "text/plain": [
       "7"
      ]
     },
     "execution_count": 100,
     "metadata": {},
     "output_type": "execute_result"
    }
   ],
   "source": [
    "3+4"
   ]
  },
  {
   "cell_type": "code",
   "execution_count": 101,
   "metadata": {},
   "outputs": [
    {
     "data": {
      "text/plain": [
       "1"
      ]
     },
     "execution_count": 101,
     "metadata": {},
     "output_type": "execute_result"
    }
   ],
   "source": [
    "4-3"
   ]
  },
  {
   "cell_type": "code",
   "execution_count": 102,
   "metadata": {},
   "outputs": [
    {
     "data": {
      "text/plain": [
       "12"
      ]
     },
     "execution_count": 102,
     "metadata": {},
     "output_type": "execute_result"
    }
   ],
   "source": [
    "4*3"
   ]
  },
  {
   "cell_type": "code",
   "execution_count": 103,
   "metadata": {},
   "outputs": [
    {
     "data": {
      "text/plain": [
       "1.3333333333333333"
      ]
     },
     "execution_count": 103,
     "metadata": {},
     "output_type": "execute_result"
    }
   ],
   "source": [
    "4/3"
   ]
  },
  {
   "cell_type": "code",
   "execution_count": 104,
   "metadata": {},
   "outputs": [
    {
     "name": "stdout",
     "output_type": "stream",
     "text": [
      "1.33\n"
     ]
    }
   ],
   "source": [
    "print(round(4/3,2))"
   ]
  },
  {
   "cell_type": "code",
   "execution_count": 105,
   "metadata": {},
   "outputs": [
    {
     "data": {
      "text/plain": [
       "81"
      ]
     },
     "execution_count": 105,
     "metadata": {},
     "output_type": "execute_result"
    }
   ],
   "source": [
    "3**4"
   ]
  },
  {
   "cell_type": "code",
   "execution_count": 106,
   "metadata": {},
   "outputs": [
    {
     "data": {
      "text/plain": [
       "21"
      ]
     },
     "execution_count": 106,
     "metadata": {},
     "output_type": "execute_result"
    }
   ],
   "source": [
    "3 * (3+4)"
   ]
  },
  {
   "cell_type": "markdown",
   "metadata": {},
   "source": [
    "1.2.2 String"
   ]
  },
  {
   "cell_type": "code",
   "execution_count": 107,
   "metadata": {},
   "outputs": [
    {
     "name": "stdout",
     "output_type": "stream",
     "text": [
      "hello world\n",
      "hello world\n",
      "This 's easy to learn python\n"
     ]
    }
   ],
   "source": [
    "msg = \"hello world\"\n",
    "print(msg)\n",
    "\n",
    "msg = 'hello world'\n",
    "print(msg)\n",
    "\n",
    "#print('This 's easy to learn python')\n",
    "print(\"This 's easy to learn python\")"
   ]
  },
  {
   "cell_type": "code",
   "execution_count": 108,
   "metadata": {},
   "outputs": [
    {
     "name": "stdout",
     "output_type": "stream",
     "text": [
      "helloworld\n",
      "hello world\n",
      "hello world\n"
     ]
    }
   ],
   "source": [
    "# addding string\n",
    "\n",
    "msg_1 = \"hello\"\n",
    "msg_2 = \"world\"\n",
    "\n",
    "print(msg_1+msg_2)\n",
    "print(msg_1+\" \"+msg_2)\n",
    "print(f\"{msg_1} {msg_2}\") # f-string function"
   ]
  },
  {
   "cell_type": "code",
   "execution_count": 109,
   "metadata": {},
   "outputs": [
    {
     "data": {
      "text/plain": [
       "'python'"
      ]
     },
     "execution_count": 109,
     "metadata": {},
     "output_type": "execute_result"
    }
   ],
   "source": [
    "# formating\n",
    "\"PYTHON\".lower()"
   ]
  },
  {
   "cell_type": "code",
   "execution_count": 110,
   "metadata": {},
   "outputs": [
    {
     "data": {
      "text/plain": [
       "'PYTHON'"
      ]
     },
     "execution_count": 110,
     "metadata": {},
     "output_type": "execute_result"
    }
   ],
   "source": [
    "\"python\".upper()"
   ]
  },
  {
   "cell_type": "code",
   "execution_count": 111,
   "metadata": {},
   "outputs": [
    {
     "data": {
      "text/plain": [
       "'PYTHON'"
      ]
     },
     "execution_count": 111,
     "metadata": {},
     "output_type": "execute_result"
    }
   ],
   "source": [
    "msg = \"python\"\n",
    "msg.upper()"
   ]
  },
  {
   "cell_type": "markdown",
   "metadata": {},
   "source": [
    "1.2.3 Contant"
   ]
  },
  {
   "cell_type": "code",
   "execution_count": 112,
   "metadata": {},
   "outputs": [
    {
     "name": "stdout",
     "output_type": "stream",
     "text": [
      "fahtenheit\n",
      "fahtenheit1\n",
      "212\n"
     ]
    }
   ],
   "source": [
    "TEMPERATURE_SCALES = \"fahtenheit\"\n",
    "print(TEMPERATURE_SCALES)\n",
    "\n",
    "TEMPERATURE_SCALES = \"fahtenheit1\"\n",
    "print(TEMPERATURE_SCALES)\n",
    "\n",
    "TEMPERATURE_SCALES = 212\n",
    "print(TEMPERATURE_SCALES)"
   ]
  },
  {
   "cell_type": "markdown",
   "metadata": {},
   "source": [
    "## 1.3 Compareative(booleans)"
   ]
  },
  {
   "cell_type": "code",
   "execution_count": 113,
   "metadata": {},
   "outputs": [
    {
     "data": {
      "text/plain": [
       "False"
      ]
     },
     "execution_count": 113,
     "metadata": {},
     "output_type": "execute_result"
    }
   ],
   "source": [
    "3 == 4"
   ]
  },
  {
   "cell_type": "code",
   "execution_count": 114,
   "metadata": {},
   "outputs": [
    {
     "data": {
      "text/plain": [
       "True"
      ]
     },
     "execution_count": 114,
     "metadata": {},
     "output_type": "execute_result"
    }
   ],
   "source": [
    "4 == 4"
   ]
  },
  {
   "cell_type": "code",
   "execution_count": 115,
   "metadata": {},
   "outputs": [
    {
     "data": {
      "text/plain": [
       "bool"
      ]
     },
     "execution_count": 115,
     "metadata": {},
     "output_type": "execute_result"
    }
   ],
   "source": [
    "type(3 == 4)"
   ]
  },
  {
   "cell_type": "code",
   "execution_count": 116,
   "metadata": {},
   "outputs": [
    {
     "data": {
      "text/plain": [
       "True"
      ]
     },
     "execution_count": 116,
     "metadata": {},
     "output_type": "execute_result"
    }
   ],
   "source": [
    "3 != 4"
   ]
  },
  {
   "cell_type": "code",
   "execution_count": 117,
   "metadata": {},
   "outputs": [
    {
     "data": {
      "text/plain": [
       "True"
      ]
     },
     "execution_count": 117,
     "metadata": {},
     "output_type": "execute_result"
    }
   ],
   "source": [
    "3 < 4"
   ]
  },
  {
   "cell_type": "code",
   "execution_count": 118,
   "metadata": {},
   "outputs": [
    {
     "data": {
      "text/plain": [
       "True"
      ]
     },
     "execution_count": 118,
     "metadata": {},
     "output_type": "execute_result"
    }
   ],
   "source": [
    "3 <= 4"
   ]
  },
  {
   "cell_type": "code",
   "execution_count": 119,
   "metadata": {},
   "outputs": [
    {
     "data": {
      "text/plain": [
       "True"
      ]
     },
     "execution_count": 119,
     "metadata": {},
     "output_type": "execute_result"
    }
   ],
   "source": [
    "3 < 4 < 5 "
   ]
  },
  {
   "cell_type": "code",
   "execution_count": 120,
   "metadata": {},
   "outputs": [
    {
     "data": {
      "text/plain": [
       "True"
      ]
     },
     "execution_count": 120,
     "metadata": {},
     "output_type": "execute_result"
    }
   ],
   "source": [
    "True"
   ]
  },
  {
   "cell_type": "code",
   "execution_count": 121,
   "metadata": {},
   "outputs": [
    {
     "data": {
      "text/plain": [
       "False"
      ]
     },
     "execution_count": 121,
     "metadata": {},
     "output_type": "execute_result"
    }
   ],
   "source": [
    "False"
   ]
  },
  {
   "cell_type": "code",
   "execution_count": 122,
   "metadata": {},
   "outputs": [
    {
     "data": {
      "text/plain": [
       "False"
      ]
     },
     "execution_count": 122,
     "metadata": {},
     "output_type": "execute_result"
    }
   ],
   "source": [
    "not True"
   ]
  },
  {
   "cell_type": "code",
   "execution_count": 123,
   "metadata": {},
   "outputs": [
    {
     "data": {
      "text/plain": [
       "True"
      ]
     },
     "execution_count": 123,
     "metadata": {},
     "output_type": "execute_result"
    }
   ],
   "source": [
    "not False"
   ]
  },
  {
   "cell_type": "code",
   "execution_count": 124,
   "metadata": {},
   "outputs": [
    {
     "data": {
      "text/plain": [
       "False"
      ]
     },
     "execution_count": 124,
     "metadata": {},
     "output_type": "execute_result"
    }
   ],
   "source": [
    "False and True"
   ]
  },
  {
   "cell_type": "code",
   "execution_count": 125,
   "metadata": {},
   "outputs": [
    {
     "data": {
      "text/plain": [
       "True"
      ]
     },
     "execution_count": 125,
     "metadata": {},
     "output_type": "execute_result"
    }
   ],
   "source": [
    "True or False"
   ]
  },
  {
   "cell_type": "markdown",
   "metadata": {},
   "source": [
    "## 1.4 Comments"
   ]
  },
  {
   "cell_type": "code",
   "execution_count": 126,
   "metadata": {},
   "outputs": [
    {
     "name": "stdout",
     "output_type": "stream",
     "text": [
      "305\n"
     ]
    }
   ],
   "source": [
    "#calculate temperature\n",
    "TEMPERATURE_SCALES = 273 \n",
    "current_temperature = 32\n",
    "print(current_temperature + TEMPERATURE_SCALES) # This is a convert celsius to kelvin"
   ]
  },
  {
   "cell_type": "code",
   "execution_count": 127,
   "metadata": {},
   "outputs": [
    {
     "name": "stdout",
     "output_type": "stream",
     "text": [
      "305\n"
     ]
    }
   ],
   "source": [
    "\"\"\" multiple line \n",
    "comment with quote\n",
    "\"\"\"\n",
    "TEMPERATURE_SCALES = 273 \n",
    "current_temperature = 32\n",
    "print(current_temperature + TEMPERATURE_SCALES) # This is a convert celsius to kelvin"
   ]
  },
  {
   "cell_type": "markdown",
   "metadata": {},
   "source": [
    "## 1.5 Index and Slicing"
   ]
  },
  {
   "cell_type": "code",
   "execution_count": 128,
   "metadata": {},
   "outputs": [],
   "source": [
    "language = \"PYTHON\""
   ]
  },
  {
   "cell_type": "code",
   "execution_count": 129,
   "metadata": {},
   "outputs": [
    {
     "name": "stdout",
     "output_type": "stream",
     "text": [
      "P\n",
      "Y\n",
      "N\n",
      "N\n",
      "O\n"
     ]
    }
   ],
   "source": [
    "#Index\n",
    "print(language[0])\n",
    "print(language[1])\n",
    "print(language[5])\n",
    "print(language[-1])\n",
    "print(language[-2])"
   ]
  },
  {
   "cell_type": "code",
   "execution_count": 130,
   "metadata": {},
   "outputs": [
    {
     "name": "stdout",
     "output_type": "stream",
     "text": [
      "PY\n",
      "PY\n",
      "TH\n",
      "THON\n",
      "HON\n",
      "HO\n"
     ]
    }
   ],
   "source": [
    "print(language[0:2])\n",
    "print(language[:2])\n",
    "print(language[2:4])\n",
    "print(language[2:])\n",
    "print(language[-3:])\n",
    "print(language[-3:-1])"
   ]
  },
  {
   "cell_type": "markdown",
   "metadata": {},
   "source": [
    "## 1.6 Data structures"
   ]
  },
  {
   "cell_type": "markdown",
   "metadata": {},
   "source": [
    "1.6.1 Lists"
   ]
  },
  {
   "cell_type": "code",
   "execution_count": 131,
   "metadata": {},
   "outputs": [
    {
     "name": "stdout",
     "output_type": "stream",
     "text": [
      "<class 'str'>\n",
      "<class 'list'>\n",
      "['one.xlsx', 'two.xlsx', 'three.xlsx']\n"
     ]
    }
   ],
   "source": [
    "file_name = \"oee.xlsx\"\n",
    "file_names = [\"one.xlsx\" , \"two.xlsx\", \"three.xlsx\"]\n",
    "\n",
    "print(type(file_name))\n",
    "print(type(file_names))\n",
    "print(file_names)"
   ]
  },
  {
   "cell_type": "code",
   "execution_count": 132,
   "metadata": {},
   "outputs": [
    {
     "data": {
      "text/plain": [
       "['one2.xlsx', 1, 'three2.xlsx', 2]"
      ]
     },
     "execution_count": 132,
     "metadata": {},
     "output_type": "execute_result"
    }
   ],
   "source": [
    "file_names_2 = [\"one2.xlsx\" , 1, \"three2.xlsx\",2]\n",
    "file_names_2"
   ]
  },
  {
   "cell_type": "code",
   "execution_count": 133,
   "metadata": {},
   "outputs": [
    {
     "data": {
      "text/plain": [
       "['one.xlsx', 'two.xlsx', 'three.xlsx', 'one2.xlsx', 1, 'three2.xlsx', 2]"
      ]
     },
     "execution_count": 133,
     "metadata": {},
     "output_type": "execute_result"
    }
   ],
   "source": [
    "# addition list\n",
    "file_names+file_names_2"
   ]
  },
  {
   "cell_type": "code",
   "execution_count": 134,
   "metadata": {},
   "outputs": [
    {
     "name": "stdout",
     "output_type": "stream",
     "text": [
      "<class 'list'>\n",
      "<class 'str'>\n",
      "one.xlsx\n",
      "<class 'list'>\n",
      "['one.xlsx', 'two.xlsx']\n"
     ]
    }
   ],
   "source": [
    "file_names = [\"one.xlsx\" , \"two.xlsx\", \"three.xlsx\"]\n",
    "print(type(file_names))\n",
    "\n",
    "print(type(file_names[0]))\n",
    "print(file_names[0])\n",
    "\n",
    "print(type(file_names[:2]))\n",
    "print(file_names[:2])"
   ]
  },
  {
   "cell_type": "code",
   "execution_count": 135,
   "metadata": {},
   "outputs": [
    {
     "name": "stdout",
     "output_type": "stream",
     "text": [
      "[[1, 2, 3], [4, 5, 6], [7, 8, 9]]\n"
     ]
    }
   ],
   "source": [
    "nested_lists = [[1,2,3],[4,5,6],[7,8,9]]\n",
    "print(nested_lists)"
   ]
  },
  {
   "cell_type": "code",
   "execution_count": 136,
   "metadata": {},
   "outputs": [
    {
     "name": "stdout",
     "output_type": "stream",
     "text": [
      "[1, 2, 3]\n",
      "1\n",
      "5\n",
      "9\n",
      "[8, 9]\n",
      "[8, 9]\n",
      "[8, 9]\n"
     ]
    }
   ],
   "source": [
    "print(nested_lists[0])\n",
    "print(nested_lists[0][0])\n",
    "\n",
    "# access 5,9,[8,9]\n",
    "print(nested_lists[1][1])\n",
    "print(nested_lists[2][2])\n",
    "print(nested_lists[2][1:]) # recommend\n",
    "print(nested_lists[2][1:3])\n",
    "print(nested_lists[2][-2:])"
   ]
  },
  {
   "cell_type": "code",
   "execution_count": 137,
   "metadata": {},
   "outputs": [
    {
     "name": "stdout",
     "output_type": "stream",
     "text": [
      "['linda', 'brian']\n"
     ]
    }
   ],
   "source": [
    "users = [\"linda\",\"brian\"]\n",
    "print(users)"
   ]
  },
  {
   "cell_type": "code",
   "execution_count": 138,
   "metadata": {},
   "outputs": [
    {
     "name": "stdout",
     "output_type": "stream",
     "text": [
      "['linda', 'brian', 'suraphop']\n"
     ]
    }
   ],
   "source": [
    "# addition values to list\n",
    "users.append(\"suraphop\")\n",
    "print(users)"
   ]
  },
  {
   "cell_type": "code",
   "execution_count": 139,
   "metadata": {},
   "outputs": [
    {
     "name": "stdout",
     "output_type": "stream",
     "text": [
      "['kim', 'linda', 'brian', 'suraphop']\n"
     ]
    }
   ],
   "source": [
    "users.insert(0,\"kim\")\n",
    "print(users)"
   ]
  },
  {
   "cell_type": "code",
   "execution_count": 140,
   "metadata": {},
   "outputs": [
    {
     "data": {
      "text/plain": [
       "['kim', 'linda', 'brian']"
      ]
     },
     "execution_count": 140,
     "metadata": {},
     "output_type": "execute_result"
    }
   ],
   "source": [
    "#delete\n",
    "users.pop()\n",
    "users"
   ]
  },
  {
   "cell_type": "code",
   "execution_count": 141,
   "metadata": {},
   "outputs": [
    {
     "data": {
      "text/plain": [
       "['linda', 'brian']"
      ]
     },
     "execution_count": 141,
     "metadata": {},
     "output_type": "execute_result"
    }
   ],
   "source": [
    "users.pop(0)\n",
    "users"
   ]
  },
  {
   "cell_type": "code",
   "execution_count": 142,
   "metadata": {},
   "outputs": [
    {
     "data": {
      "text/plain": [
       "['brian']"
      ]
     },
     "execution_count": 142,
     "metadata": {},
     "output_type": "execute_result"
    }
   ],
   "source": [
    "del users[0]\n",
    "users"
   ]
  },
  {
   "cell_type": "code",
   "execution_count": 143,
   "metadata": {},
   "outputs": [
    {
     "data": {
      "text/plain": [
       "['suraphop']"
      ]
     },
     "execution_count": 143,
     "metadata": {},
     "output_type": "execute_result"
    }
   ],
   "source": [
    "#edit\n",
    "users[0] = \"suraphop\"\n",
    "users"
   ]
  },
  {
   "cell_type": "code",
   "execution_count": 144,
   "metadata": {},
   "outputs": [
    {
     "name": "stdout",
     "output_type": "stream",
     "text": [
      "True\n",
      "False\n",
      "False\n",
      "True\n"
     ]
    }
   ],
   "source": [
    "print(\"suraphop\" in users)\n",
    "print(\"suraphop2\" in users)\n",
    "print(\"Suraphop\" in users)\n",
    "print(\"Suraphop\".lower() in users)"
   ]
  },
  {
   "cell_type": "code",
   "execution_count": 145,
   "metadata": {},
   "outputs": [
    {
     "data": {
      "text/plain": [
       "True"
      ]
     },
     "execution_count": 145,
     "metadata": {},
     "output_type": "execute_result"
    }
   ],
   "source": [
    "\"XS\" in \"XSOOIS\""
   ]
  },
  {
   "cell_type": "code",
   "execution_count": 146,
   "metadata": {},
   "outputs": [
    {
     "name": "stdout",
     "output_type": "stream",
     "text": [
      "['suraphop', 'linda']\n",
      "['linda', 'suraphop']\n",
      "['suraphop', 'linda']\n"
     ]
    }
   ],
   "source": [
    "#sorts\n",
    "users = [\"suraphop\",\"linda\"]\n",
    "print(users)\n",
    "users.sort() #ASC\n",
    "print(users)\n",
    "users.sort(reverse=True)\n",
    "print(users)"
   ]
  },
  {
   "cell_type": "markdown",
   "metadata": {},
   "source": [
    "1.6.2 Dictionaries"
   ]
  },
  {
   "cell_type": "code",
   "execution_count": 147,
   "metadata": {},
   "outputs": [
    {
     "name": "stdout",
     "output_type": "stream",
     "text": [
      "{'EURUSD': 1.1152, 'GBPUSD': 1.2452, 'AUDUSD': 0.6161}\n",
      "<class 'dict'>\n"
     ]
    }
   ],
   "source": [
    "exchange_rates = {\"EURUSD\": 1.1152 , \"GBPUSD\":1.2452 , \"AUDUSD\":0.6161}\n",
    "print(exchange_rates)\n",
    "print(type(exchange_rates))"
   ]
  },
  {
   "cell_type": "code",
   "execution_count": 148,
   "metadata": {},
   "outputs": [
    {
     "data": {
      "text/plain": [
       "1.1152"
      ]
     },
     "execution_count": 148,
     "metadata": {},
     "output_type": "execute_result"
    }
   ],
   "source": [
    "exchange_rates[\"EURUSD\"]"
   ]
  },
  {
   "cell_type": "code",
   "execution_count": 149,
   "metadata": {},
   "outputs": [
    {
     "data": {
      "text/plain": [
       "{'EURUSD': 1.1152, 'GBPUSD': 1.2452, 'AUDUSD': 0.6161, 'EURJPY': 144.01}"
      ]
     },
     "execution_count": 149,
     "metadata": {},
     "output_type": "execute_result"
    }
   ],
   "source": [
    "exchange_rates[\"EURJPY\"] = 144.01\n",
    "exchange_rates"
   ]
  },
  {
   "cell_type": "code",
   "execution_count": 150,
   "metadata": {},
   "outputs": [
    {
     "data": {
      "text/plain": [
       "{'EURUSD': 1.1152, 'GBPUSD': 1.2452, 'AUDUSD': 0.6161, 'EURJPY': 145.01}"
      ]
     },
     "execution_count": 150,
     "metadata": {},
     "output_type": "execute_result"
    }
   ],
   "source": [
    "exchange_rates[\"EURJPY\"] = 145.01\n",
    "exchange_rates"
   ]
  },
  {
   "cell_type": "code",
   "execution_count": 151,
   "metadata": {},
   "outputs": [
    {
     "data": {
      "text/plain": [
       "{'EURUSD': 1.1152, 'GBPUSD': 1.2452, 'AUDUSD': 0.6161}"
      ]
     },
     "execution_count": 151,
     "metadata": {},
     "output_type": "execute_result"
    }
   ],
   "source": [
    "del exchange_rates[\"EURJPY\"]\n",
    "exchange_rates"
   ]
  },
  {
   "cell_type": "code",
   "execution_count": 152,
   "metadata": {},
   "outputs": [
    {
     "data": {
      "text/plain": [
       "{'EURUSD': 1.1152, 'GBPUSD': 1.2452}"
      ]
     },
     "execution_count": 152,
     "metadata": {},
     "output_type": "execute_result"
    }
   ],
   "source": [
    "exchange_rates.pop(\"AUDUSD\")\n",
    "exchange_rates"
   ]
  },
  {
   "cell_type": "markdown",
   "metadata": {},
   "source": [
    "1.6.3 tuple"
   ]
  },
  {
   "cell_type": "code",
   "execution_count": 153,
   "metadata": {},
   "outputs": [
    {
     "name": "stdout",
     "output_type": "stream",
     "text": [
      "('EUR', 'GBP', 'AUD')\n",
      "['EUR', 'GBP', 'AUD']\n",
      "<class 'tuple'>\n",
      "<class 'list'>\n"
     ]
    }
   ],
   "source": [
    "currencies = (\"EUR\",\"GBP\",\"AUD\")\n",
    "currencies_list = [\"EUR\",\"GBP\",\"AUD\"]\n",
    "\n",
    "print(currencies)\n",
    "print(currencies_list)\n",
    "\n",
    "print(type(currencies))\n",
    "print(type(currencies_list))\n",
    "\n",
    "#currencies[0] = \"AAA\"\n"
   ]
  },
  {
   "cell_type": "markdown",
   "metadata": {},
   "source": [
    "## 1.7 Control flow"
   ]
  },
  {
   "cell_type": "markdown",
   "metadata": {},
   "source": [
    "1.7.1 If statement"
   ]
  },
  {
   "cell_type": "code",
   "execution_count": 154,
   "metadata": {},
   "outputs": [
    {
     "name": "stdout",
     "output_type": "stream",
     "text": [
      "False\n",
      "i is between 5 and 10\n"
     ]
    }
   ],
   "source": [
    "i = 6\n",
    "print(i < 5)\n",
    "\n",
    "# if True :\n",
    "#     print(\"True\") \n",
    "    \n",
    "if i<5:\n",
    "    print(\"i is smaller than 5\")\n",
    "elif i <= 10:\n",
    "    print(\"i is between 5 and 10\")\n",
    "else:\n",
    "    print(\"out of range\")"
   ]
  },
  {
   "cell_type": "code",
   "execution_count": 155,
   "metadata": {},
   "outputs": [
    {
     "name": "stdout",
     "output_type": "stream",
     "text": [
      "This is a important\n",
      "This is an important\n"
     ]
    }
   ],
   "source": [
    "# flag statement\n",
    "is_important = True\n",
    "if is_important:\n",
    "    print(\"This is a important\")\n",
    "else:\n",
    "    print(\"This is not important\")\n",
    "    \n",
    "# 1 line if statement style    \n",
    "print(\"This is an important\") if is_important else print(\"This is not important\")"
   ]
  },
  {
   "cell_type": "markdown",
   "metadata": {},
   "source": [
    "1.7.2 For Loops and While Loops"
   ]
  },
  {
   "cell_type": "code",
   "execution_count": 156,
   "metadata": {},
   "outputs": [
    {
     "name": "stdout",
     "output_type": "stream",
     "text": [
      "0\n",
      "1\n",
      "2\n",
      "3\n",
      "4\n"
     ]
    }
   ],
   "source": [
    "for i in range(5):\n",
    "    print(i)"
   ]
  },
  {
   "cell_type": "code",
   "execution_count": 157,
   "metadata": {},
   "outputs": [
    {
     "name": "stdout",
     "output_type": "stream",
     "text": [
      "0\n",
      "1\n",
      "2\n",
      "3\n",
      "4\n"
     ]
    }
   ],
   "source": [
    "for i in range(10):\n",
    "    if i == 5:\n",
    "        break\n",
    "    print(i)"
   ]
  },
  {
   "cell_type": "code",
   "execution_count": 158,
   "metadata": {},
   "outputs": [
    {
     "name": "stdout",
     "output_type": "stream",
     "text": [
      "0\n",
      "1\n",
      "2\n",
      "3\n",
      "4\n",
      "6\n",
      "7\n",
      "8\n",
      "9\n"
     ]
    }
   ],
   "source": [
    "for i in range(10):\n",
    "    if i == 5:\n",
    "        continue\n",
    "    print(i)"
   ]
  },
  {
   "cell_type": "code",
   "execution_count": 159,
   "metadata": {},
   "outputs": [
    {
     "name": "stdout",
     "output_type": "stream",
     "text": [
      "1\n",
      "2\n",
      "3\n",
      "4\n"
     ]
    }
   ],
   "source": [
    "for i in range(1,5):\n",
    "    print(i)"
   ]
  },
  {
   "cell_type": "code",
   "execution_count": 160,
   "metadata": {},
   "outputs": [
    {
     "name": "stdout",
     "output_type": "stream",
     "text": [
      "1\n",
      "3\n",
      "5\n",
      "7\n",
      "9\n"
     ]
    }
   ],
   "source": [
    "for i in range(1,10,2):\n",
    "    print(i)"
   ]
  },
  {
   "cell_type": "code",
   "execution_count": 161,
   "metadata": {},
   "outputs": [
    {
     "name": "stdout",
     "output_type": "stream",
     "text": [
      "0\n",
      "1\n",
      "2\n",
      "3\n",
      "4\n",
      "5\n",
      "6\n",
      "7\n",
      "8\n",
      "9\n",
      "10\n"
     ]
    }
   ],
   "source": [
    "n = 0 \n",
    "while n <= 10 :\n",
    "    print(n)\n",
    "    n += 1"
   ]
  },
  {
   "cell_type": "markdown",
   "metadata": {},
   "source": [
    "1.7.3 For loops in data structure"
   ]
  },
  {
   "cell_type": "markdown",
   "metadata": {},
   "source": [
    "1.7.3.1 for loops in lists"
   ]
  },
  {
   "cell_type": "code",
   "execution_count": 162,
   "metadata": {},
   "outputs": [
    {
     "data": {
      "text/plain": [
       "['USD', 'HKD', 'AUD']"
      ]
     },
     "execution_count": 162,
     "metadata": {},
     "output_type": "execute_result"
    }
   ],
   "source": [
    "currencies = [\"USD\",\"HKD\",\"AUD\"]\n",
    "currencies"
   ]
  },
  {
   "cell_type": "code",
   "execution_count": 163,
   "metadata": {},
   "outputs": [
    {
     "name": "stdout",
     "output_type": "stream",
     "text": [
      "USD\n",
      "<class 'str'>\n",
      "HKD\n",
      "<class 'str'>\n",
      "AUD\n",
      "<class 'str'>\n"
     ]
    }
   ],
   "source": [
    "#currencies[0]\n",
    "\n",
    "for currencie in currencies:\n",
    "    print(currencie)\n",
    "    print(type(currencie))"
   ]
  },
  {
   "cell_type": "markdown",
   "metadata": {},
   "source": [
    "1.7.3.2 for loops in dictionaries"
   ]
  },
  {
   "cell_type": "code",
   "execution_count": 164,
   "metadata": {},
   "outputs": [
    {
     "data": {
      "text/plain": [
       "{'EURUSD': 1.1152, 'GBPUSD': 1.2452, 'AUDUSD': 0.6161}"
      ]
     },
     "execution_count": 164,
     "metadata": {},
     "output_type": "execute_result"
    }
   ],
   "source": [
    "exchage_rates = {\"EURUSD\": 1.1152 , \"GBPUSD\":1.2452,\"AUDUSD\":0.6161}\n",
    "exchage_rates"
   ]
  },
  {
   "cell_type": "code",
   "execution_count": 165,
   "metadata": {},
   "outputs": [
    {
     "name": "stdout",
     "output_type": "stream",
     "text": [
      "EURUSD\n",
      "<class 'str'>\n",
      "GBPUSD\n",
      "<class 'str'>\n",
      "AUDUSD\n",
      "<class 'str'>\n"
     ]
    }
   ],
   "source": [
    "for exchage_rate in exchage_rates:\n",
    "    print(exchage_rate)\n",
    "    print(type(exchage_rate))"
   ]
  },
  {
   "cell_type": "code",
   "execution_count": 166,
   "metadata": {},
   "outputs": [
    {
     "name": "stdout",
     "output_type": "stream",
     "text": [
      "EURUSD\n",
      "<class 'str'>\n",
      "GBPUSD\n",
      "<class 'str'>\n",
      "AUDUSD\n",
      "<class 'str'>\n"
     ]
    }
   ],
   "source": [
    "for exchage_rate in exchage_rates.keys():\n",
    "    print(exchage_rate)\n",
    "    print(type(exchage_rate))"
   ]
  },
  {
   "cell_type": "code",
   "execution_count": 167,
   "metadata": {},
   "outputs": [
    {
     "name": "stdout",
     "output_type": "stream",
     "text": [
      "1.1152\n",
      "<class 'float'>\n",
      "1.2452\n",
      "<class 'float'>\n",
      "0.6161\n",
      "<class 'float'>\n"
     ]
    }
   ],
   "source": [
    "for exchage_rate in exchage_rates.values():\n",
    "    print(exchage_rate)\n",
    "    print(type(exchage_rate))"
   ]
  },
  {
   "cell_type": "code",
   "execution_count": 168,
   "metadata": {},
   "outputs": [
    {
     "name": "stdout",
     "output_type": "stream",
     "text": [
      "('EURUSD', 1.1152)\n",
      "<class 'tuple'>\n",
      "('GBPUSD', 1.2452)\n",
      "<class 'tuple'>\n",
      "('AUDUSD', 0.6161)\n",
      "<class 'tuple'>\n"
     ]
    }
   ],
   "source": [
    "for exchage_rate in exchage_rates.items():\n",
    "    print(exchage_rate)\n",
    "    print(type(exchage_rate))"
   ]
  },
  {
   "cell_type": "markdown",
   "metadata": {},
   "source": [
    "## 1.8 Function"
   ]
  },
  {
   "cell_type": "code",
   "execution_count": 169,
   "metadata": {},
   "outputs": [
    {
     "name": "stdout",
     "output_type": "stream",
     "text": [
      "hello world\n"
     ]
    }
   ],
   "source": [
    "def test():\n",
    "    \"\"\"for print hello world\"\"\"\n",
    "    print(\"hello world\")\n",
    "\n",
    "test()"
   ]
  },
  {
   "cell_type": "code",
   "execution_count": 170,
   "metadata": {},
   "outputs": [
    {
     "name": "stdout",
     "output_type": "stream",
     "text": [
      "5\n",
      "None\n"
     ]
    }
   ],
   "source": [
    "def calculation(input_1,input_2):\n",
    "    \"\"\"plus 2 digit\"\"\"\n",
    "    print(input_1+input_2)\n",
    "    \n",
    "print(calculation(2,3))"
   ]
  },
  {
   "cell_type": "code",
   "execution_count": 171,
   "metadata": {},
   "outputs": [
    {
     "name": "stdout",
     "output_type": "stream",
     "text": [
      "5\n",
      "15\n"
     ]
    }
   ],
   "source": [
    "def calculation(input_1,input_2):\n",
    "    \"\"\"plus 2 digit\"\"\"\n",
    "    return input_1+input_2\n",
    "\n",
    "print(calculation(2,3))\n",
    "print(calculation(2,3)+10)"
   ]
  },
  {
   "cell_type": "code",
   "execution_count": 172,
   "metadata": {},
   "outputs": [
    {
     "name": "stdout",
     "output_type": "stream",
     "text": [
      "(5, 'ok')\n",
      "15\n",
      "ok\n",
      "(5, 'ok')\n"
     ]
    }
   ],
   "source": [
    "def calculation(input_1,input_2):\n",
    "    \"\"\"plus 2 digit\"\"\"\n",
    "    result = input_1+input_2\n",
    "    if result < 10:\n",
    "        msg = \"ok\"\n",
    "    else:\n",
    "        msg = \"ng\"\n",
    "    return result ,msg  \n",
    "\n",
    "print(calculation(2,3))\n",
    "\n",
    "print(calculation(2,3)[0]+10)\n",
    "print(calculation(2,3)[1])\n",
    "\n",
    "print(calculation(3,2))"
   ]
  },
  {
   "cell_type": "code",
   "execution_count": 173,
   "metadata": {},
   "outputs": [
    {
     "name": "stdout",
     "output_type": "stream",
     "text": [
      "(-1, 'ok')\n",
      "(1, 'ok')\n",
      "(1, 'ok')\n",
      "(1, 'ok')\n",
      "(1, 'ok')\n"
     ]
    }
   ],
   "source": [
    "def calculation(input_1,input_2):\n",
    "    \"\"\"minus 2 digit\"\"\"\n",
    "    result = input_1-input_2\n",
    "    if result < 10:\n",
    "        msg = \"ok\"\n",
    "    else:\n",
    "        msg = \"ng\"\n",
    "    return result ,msg  \n",
    "print(calculation(2,3))\n",
    "print(calculation(3,2))\n",
    "\n",
    "print(calculation(3,2))\n",
    "print(calculation(input_1=3,input_2=2))\n",
    "print(calculation(input_2=2,input_1=3))"
   ]
  },
  {
   "cell_type": "code",
   "execution_count": 174,
   "metadata": {},
   "outputs": [
    {
     "name": "stdout",
     "output_type": "stream",
     "text": [
      "(-7, 'ok')\n",
      "(1, 'ok')\n",
      "(1, 'ok')\n"
     ]
    }
   ],
   "source": [
    "def calculation(input_1,input_2=10):\n",
    "    \"\"\"minus 2 digit\"\"\"\n",
    "    result = input_1-input_2\n",
    "    if result < 10:\n",
    "        msg = \"ok\"\n",
    "    else:\n",
    "        msg = \"ng\"\n",
    "    return result ,msg  \n",
    "\n",
    "print(calculation(3))\n",
    "print(calculation(3,2))\n",
    "print(calculation(input_2=2,input_1=3))"
   ]
  },
  {
   "cell_type": "markdown",
   "metadata": {},
   "source": [
    "## 3.9 Module"
   ]
  },
  {
   "cell_type": "code",
   "execution_count": 175,
   "metadata": {},
   "outputs": [],
   "source": [
    "import calculation"
   ]
  },
  {
   "cell_type": "code",
   "execution_count": 176,
   "metadata": {},
   "outputs": [
    {
     "data": {
      "text/plain": [
       "(-1, 'ok')"
      ]
     },
     "execution_count": 176,
     "metadata": {},
     "output_type": "execute_result"
    }
   ],
   "source": [
    "calculation.minus(2,3)"
   ]
  },
  {
   "cell_type": "code",
   "execution_count": 177,
   "metadata": {},
   "outputs": [
    {
     "data": {
      "text/plain": [
       "(-1, 'ok')"
      ]
     },
     "execution_count": 177,
     "metadata": {},
     "output_type": "execute_result"
    }
   ],
   "source": [
    "import calculation as cal \n",
    "cal.minus(2,3)"
   ]
  },
  {
   "cell_type": "code",
   "execution_count": 178,
   "metadata": {},
   "outputs": [
    {
     "data": {
      "text/plain": [
       "(5, 'ok')"
      ]
     },
     "execution_count": 178,
     "metadata": {},
     "output_type": "execute_result"
    }
   ],
   "source": [
    "cal.plus(2,3)"
   ]
  },
  {
   "cell_type": "code",
   "execution_count": 181,
   "metadata": {},
   "outputs": [
    {
     "name": "stdout",
     "output_type": "stream",
     "text": [
      "(-1, 'ok')\n",
      "(5, 'ok')\n"
     ]
    }
   ],
   "source": [
    "from calculation import minus , plus\n",
    "\n",
    "print(minus(2,3))\n",
    "print(plus(2,3))"
   ]
  },
  {
   "cell_type": "markdown",
   "metadata": {},
   "source": [
    "3.9.1 Example1\n",
    "\n",
    "convert to celsius\n",
    "\n",
    "-input ใส่ค่าอุณหภูมิ , fahrenhite,kelvin\n",
    "- สูตรคำนวน (degrees-32)*(5/9) # fahrenhite\n",
    "- สูตรคำนวน degrees -273.15 # kelvin\n",
    "- ถ้าใส่ค่านอกเหนือจาก fahrenhite,kelvin โปรแกรมจะบอกว่า  ไม่รุ้จักค่านี้ให้ใส่ค่าใหม่\n",
    "- ถ้าไม่ใส่หน่วยอุณหภูมิให้โปรแกรมคิดว่า fahrenhite\n",
    "\n",
    "print(convert_to_celsius(100))\n",
    "\n",
    "print(convert_to_celsius(100,'kelvin'))\n",
    "\n",
    "print(convert_to_celsius(100,'Kelvin'))\n",
    "\n",
    "print(convert_to_celsius(100,'Fahrenhite'))\n",
    "\n",
    "print(convert_to_celsius(100,'qwqe'))\n",
    "\n",
    "print(convert_to_celsius('100','kelvin'))\n",
    "\n",
    "print(convert_to_celsius('100.13','kelvin'))\n",
    "\n",
    "print(convert_to_celsius('sdfsdf','kelvin'))\n",
    "\n",
    "\n",
    "37.78\n",
    "\n",
    "-173.15\n",
    "\n",
    "-173.15\n",
    "\n",
    "37.78\n",
    "\n",
    "Don't know source: qwqe\n",
    "\n",
    "-173.15\n",
    "\n",
    "-173.02\n"
   ]
  },
  {
   "cell_type": "code",
   "execution_count": null,
   "metadata": {},
   "outputs": [
    {
     "name": "stdout",
     "output_type": "stream",
     "text": [
      "37.78\n",
      "-173.15\n",
      "-173.15\n",
      "37.78\n",
      "Dont know source : qwqe\n",
      "-173.15\n",
      "-173.02\n",
      "could not convert string to float: 'sdfsdf'\n"
     ]
    }
   ],
   "source": [
    "def convert_to_celsius(degrees,source=\"fahrenhite\"):\n",
    "    \"\"\"convert temperature\"\"\"\n",
    "    try:\n",
    "        if source.lower() == 'kelvin':\n",
    "            return round(float(degrees) -273.15,2)\n",
    "        elif source.lower() == 'fahrenhite':\n",
    "            return round((float(degrees)-32)*(5/9),2)\n",
    "        else:\n",
    "            return f\"Dont know source : {source}\"\n",
    "    except Exception as e:\n",
    "        return e\n",
    "        \n",
    "print(convert_to_celsius(100))\n",
    "print(convert_to_celsius(100,'kelvin'))\n",
    "print(convert_to_celsius(100,'Kelvin'))\n",
    "print(convert_to_celsius(100,'Fahrenhite'))\n",
    "print(convert_to_celsius(100,'qwqe'))\n",
    "print(convert_to_celsius('100','kelvin'))\n",
    "print(convert_to_celsius('100.13','kelvin'))\n",
    "print(convert_to_celsius('sdfsdf','kelvin'))"
   ]
  }
 ],
 "metadata": {
  "kernelspec": {
   "display_name": "python_office",
   "language": "python",
   "name": "python3"
  },
  "language_info": {
   "codemirror_mode": {
    "name": "ipython",
    "version": 3
   },
   "file_extension": ".py",
   "mimetype": "text/x-python",
   "name": "python",
   "nbconvert_exporter": "python",
   "pygments_lexer": "ipython3",
   "version": "3.11.11"
  }
 },
 "nbformat": 4,
 "nbformat_minor": 2
}
